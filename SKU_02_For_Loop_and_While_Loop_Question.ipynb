{
 "cells": [
  {
   "cell_type": "markdown",
   "metadata": {},
   "source": [
    "# Questions on While Loop"
   ]
  },
  {
   "cell_type": "markdown",
   "metadata": {},
   "source": [
    "#### Take 10 integers from keyboard using loop and print their average value on the screen."
   ]
  },
  {
   "cell_type": "code",
   "execution_count": null,
   "metadata": {},
   "outputs": [],
   "source": [
    "i = 1\n",
    "list1 = []\n",
    "while i <= 2:\n",
    "    num = int(input())\n",
    "    list1.append(num)    \n",
    "    average = sum(list1) / len(list1)\n",
    "    print('Average : ' , average , \" and length of List : \" , len(list1) )\n",
    "    \n",
    "    "
   ]
  },
  {
   "cell_type": "code",
   "execution_count": null,
   "metadata": {},
   "outputs": [],
   "source": []
  },
  {
   "cell_type": "markdown",
   "metadata": {},
   "source": [
    "## 2. Print multiple star patterns using while loop.\n",
    "##### Program to print half pyramid using *\n",
    "\n"
   ]
  },
  {
   "cell_type": "code",
   "execution_count": 11,
   "metadata": {},
   "outputs": [
    {
     "name": "stdout",
     "output_type": "stream",
     "text": [
      "Please enter the number of Rows4\n",
      "# \t\n",
      "\n",
      "# \t# \t\n",
      "\n",
      "# \t# \t# \t\n",
      "\n",
      "# \t# \t# \t# \t\n",
      "\n"
     ]
    }
   ],
   "source": [
    "rows = int(input('Please enter the number of Rows'))\n",
    "\n",
    "str=\"#\"\n",
    "\n",
    "i = 1 \n",
    "while i <=rows:\n",
    "    j = 1\n",
    "    while j <=i:\n",
    "        print(str , '\\t', end = \"\")\n",
    "        j = j+1\n",
    "    print('\\n')\n",
    "    i = i + 1\n",
    "             "
   ]
  },
  {
   "cell_type": "code",
   "execution_count": 3,
   "metadata": {},
   "outputs": [
    {
     "name": "stdout",
     "output_type": "stream",
     "text": [
      "Please enter the number of Rows3\n",
      "# \t\n",
      "\n",
      "## \t\n",
      "\n",
      "### \t\n",
      "\n"
     ]
    }
   ],
   "source": [
    "rows = int(input('Please enter the number of Rows'))\n",
    "str=\"#\"\n",
    "i = 1 \n",
    "while i <=rows:\n",
    "    print(str * i , '\\t', end='')    \n",
    "    i = i + 1    \n",
    "    print('\\n')"
   ]
  },
  {
   "cell_type": "code",
   "execution_count": 2,
   "metadata": {},
   "outputs": [
    {
     "name": "stdout",
     "output_type": "stream",
     "text": [
      "*\n",
      "**\n",
      "***\n",
      "****\n",
      "*****\n",
      "******\n",
      "*******\n",
      "********\n",
      "*********\n"
     ]
    }
   ],
   "source": [
    " i=1\n",
    "while i<10:\n",
    "    print('*'* i)\n",
    "    i=i+1"
   ]
  },
  {
   "cell_type": "markdown",
   "metadata": {},
   "source": [
    "## 3. Print multiplication table of 13, 21 and 29 using loop."
   ]
  },
  {
   "cell_type": "code",
   "execution_count": 2,
   "metadata": {},
   "outputs": [
    {
     "name": "stdout",
     "output_type": "stream",
     "text": [
      "13   21   29\n",
      "26   42   58\n",
      "39   63   87\n",
      "52   84   116\n",
      "65   105   145\n",
      "78   126   174\n",
      "91   147   203\n",
      "104   168   232\n",
      "117   189   261\n",
      "130   210   290\n"
     ]
    }
   ],
   "source": [
    "i = 1 \n",
    "while i<=10:\n",
    "    print (13*i ,' ' , 21*i , ' ' , 29*i )\n",
    "    i= i +1\n"
   ]
  },
  {
   "cell_type": "markdown",
   "metadata": {},
   "source": [
    "##  4. To print the square of all numbers from 0 to 10"
   ]
  },
  {
   "cell_type": "code",
   "execution_count": 1,
   "metadata": {},
   "outputs": [
    {
     "name": "stdout",
     "output_type": "stream",
     "text": [
      "0  ______   0\n",
      "1  ______   1\n",
      "2  ______   4\n",
      "3  ______   9\n",
      "4  ______   16\n",
      "5  ______   25\n",
      "6  ______   36\n",
      "7  ______   49\n",
      "8  ______   64\n",
      "9  ______   81\n",
      "10  ______   100\n"
     ]
    }
   ],
   "source": [
    "i = 0\n",
    "while i <=10:\n",
    "    print (i , \" ______  \" , i * i)\n",
    "    i = i + 1"
   ]
  },
  {
   "cell_type": "markdown",
   "metadata": {},
   "source": [
    "## 5. To find the sum of all odd and even numbers from 0 to 10"
   ]
  },
  {
   "cell_type": "code",
   "execution_count": 3,
   "metadata": {},
   "outputs": [
    {
     "name": "stdout",
     "output_type": "stream",
     "text": [
      "Sum of Odd Values :  30\n",
      "Sum of Even Values :  25\n"
     ]
    }
   ],
   "source": [
    "i = 0\n",
    "sum_odd = 0\n",
    "sum_even=0\n",
    "while i <=10:\n",
    "    if i %2==0:\n",
    "        sum_odd= i+sum_odd\n",
    "    else:\n",
    "        sum_even = i+ sum_even      \n",
    "    i = i + 1\n",
    "print('Sum of Odd Values : ' , sum_odd)\n",
    "print('Sum of Even Values : ' , sum_even)"
   ]
  },
  {
   "cell_type": "markdown",
   "metadata": {},
   "source": [
    "## 6. Add all the numbers up to 100. Use Continue and break statement"
   ]
  },
  {
   "cell_type": "code",
   "execution_count": 5,
   "metadata": {},
   "outputs": [
    {
     "name": "stdout",
     "output_type": "stream",
     "text": [
      "2550\n"
     ]
    }
   ],
   "source": [
    "i = 0\n",
    "sum = 0\n",
    "while i <=100:\n",
    "    if i%2 == 0:\n",
    "        sum=sum+i\n",
    "    i = i+1\n",
    "print(sum)"
   ]
  },
  {
   "cell_type": "markdown",
   "metadata": {},
   "source": [
    "## 7. Take a list with multiple duplicate items and using while loop add unique elements in another new list"
   ]
  },
  {
   "cell_type": "code",
   "execution_count": 35,
   "metadata": {},
   "outputs": [
    {
     "name": "stdout",
     "output_type": "stream",
     "text": [
      "[0, 1, 2, 3, 4, 5, 13, 14, 15, 16, 19]\n"
     ]
    }
   ],
   "source": [
    "list1 = [2,3,4,3,4,5,4,5,5,4,5,3,5,6,6,7,87,5,5,7,]\n",
    "num = len(list1)\n",
    "i=0\n",
    "j = 0\n",
    "empty_list=[]\n",
    "while i <= num-1:    \n",
    "    str_1 = list1[i]\n",
    "    if str_1 not in empty_list:\n",
    "        empty_list.append(i)                     \n",
    "    i=i+1\n",
    "print(empty_list)"
   ]
  },
  {
   "cell_type": "markdown",
   "metadata": {},
   "source": [
    "## 8. To stops appending items to the new list as soon as it encounters an empty string."
   ]
  },
  {
   "cell_type": "code",
   "execution_count": 74,
   "metadata": {},
   "outputs": [
    {
     "name": "stdout",
     "output_type": "stream",
     "text": [
      "3\n",
      "d\n",
      "g\n",
      "5\n",
      "6\n",
      "\n",
      "['3', 'd', 'g', '5', '6']\n"
     ]
    }
   ],
   "source": [
    "new_list = []\n",
    "i = 1\n",
    "while i <= 5:    # Giving Infinite While Loop to enter N number of List Item - once intput item is Blank then Loop will Terminate\n",
    "    str = input()\n",
    "    if str == \"\":            \n",
    "        break\n",
    "    else:\n",
    "        new_list.append(str)      \n",
    "print(new_list)"
   ]
  },
  {
   "cell_type": "markdown",
   "metadata": {},
   "source": [
    "##  9. Program to print first 5 integer and their cubes"
   ]
  },
  {
   "cell_type": "code",
   "execution_count": 91,
   "metadata": {},
   "outputs": [
    {
     "name": "stdout",
     "output_type": "stream",
     "text": [
      "1   _____   1\n",
      "2   _____   8\n",
      "3   _____   27\n",
      "4   _____   64\n",
      "5   _____   125\n"
     ]
    }
   ],
   "source": [
    "i = 1\n",
    "while i <=5:\n",
    "    print(i, '  _____  ' , i **3)\n",
    "    i = i+1"
   ]
  },
  {
   "cell_type": "markdown",
   "metadata": {},
   "source": [
    "##  10. To convert decimal to binary"
   ]
  },
  {
   "cell_type": "code",
   "execution_count": 5,
   "metadata": {},
   "outputs": [],
   "source": [
    "val = 2.3\n",
    "val1 = 3.5"
   ]
  },
  {
   "cell_type": "markdown",
   "metadata": {},
   "source": [
    "# For Loop Question"
   ]
  },
  {
   "cell_type": "markdown",
   "metadata": {},
   "source": [
    "##  1. Python program to find out the average of a set of integers"
   ]
  },
  {
   "cell_type": "code",
   "execution_count": 1,
   "metadata": {},
   "outputs": [
    {
     "name": "stdout",
     "output_type": "stream",
     "text": [
      "Sum of Items of given List :  21   Average of given List :  3.5\n"
     ]
    }
   ],
   "source": [
    "list1 = [1,2,3,4,5,6]\n",
    "\n",
    "print('Sum of Items of given List : ' , sum(list1) , '  Average of given List : ' , sum(list1)/len(list1))"
   ]
  },
  {
   "cell_type": "markdown",
   "metadata": {},
   "source": [
    "## 2. To display all the multiples of 3 within the range 10 to 50\n",
    "\n"
   ]
  },
  {
   "cell_type": "code",
   "execution_count": 3,
   "metadata": {},
   "outputs": [
    {
     "name": "stdout",
     "output_type": "stream",
     "text": [
      "Item divisable by 3 :  12\n",
      "Item divisable by 3 :  15\n",
      "Item divisable by 3 :  18\n",
      "Item divisable by 3 :  21\n",
      "Item divisable by 3 :  24\n",
      "Item divisable by 3 :  27\n",
      "Item divisable by 3 :  30\n",
      "Item divisable by 3 :  33\n",
      "Item divisable by 3 :  36\n",
      "Item divisable by 3 :  39\n",
      "Item divisable by 3 :  42\n",
      "Item divisable by 3 :  45\n",
      "Item divisable by 3 :  48\n"
     ]
    }
   ],
   "source": [
    "for i in range(10,51):\n",
    "    if i % 3 == 0:\n",
    "        print('Item divisable by 3 : ', i)"
   ]
  },
  {
   "cell_type": "markdown",
   "metadata": {},
   "source": [
    "## 3. Program to generate the prime numbers from 1 to N"
   ]
  },
  {
   "cell_type": "code",
   "execution_count": 40,
   "metadata": {},
   "outputs": [
    {
     "name": "stdout",
     "output_type": "stream",
     "text": [
      "{3, 5, 7, 9, 11, 13, 15, 17, 19, 21, 23, 25, 27, 29, 31, 33, 35, 37, 39}\n"
     ]
    }
   ],
   "source": [
    "n = 40\n",
    "l1 = []\n",
    "for i in range(2,n+1):\n",
    "    for j in (range(2,i)):\n",
    "        if i % j == 0:            \n",
    "            break\n",
    "        else:            \n",
    "            l1.append(i)\n",
    "final_list = set(l1)\n",
    "print(final_list)"
   ]
  },
  {
   "cell_type": "markdown",
   "metadata": {},
   "source": [
    "## 4. Program to find the odd and even numbers in an array"
   ]
  },
  {
   "cell_type": "code",
   "execution_count": 45,
   "metadata": {},
   "outputs": [
    {
     "data": {
      "text/plain": [
       "{2, 3, 4, 5, 6, 7, 13, 25, 32, 54, 86}"
      ]
     },
     "execution_count": 45,
     "metadata": {},
     "output_type": "execute_result"
    }
   ],
   "source": [
    "list1 = [54,25,2,3,2,4,2,4,5,7,6,6,7,13,86,6,6,6,4,32,2,3,5]\n",
    "list1 = set(list1)\n",
    "list1\n"
   ]
  },
  {
   "cell_type": "markdown",
   "metadata": {},
   "source": [
    "## 5. Program to find the largest number in a list without using built-in functions"
   ]
  },
  {
   "cell_type": "code",
   "execution_count": 51,
   "metadata": {},
   "outputs": [
    {
     "name": "stdout",
     "output_type": "stream",
     "text": [
      "632\n"
     ]
    }
   ],
   "source": [
    "list1 = [92, 3, 4, 45, 6, 27, 13, 25, 632, 54, 86]\n",
    "n = 0\n",
    "for i in list1:\n",
    "    if n < i:\n",
    "        n = i\n",
    "print(n)\n",
    "    \n",
    "    "
   ]
  },
  {
   "cell_type": "markdown",
   "metadata": {},
   "source": [
    "## 6. Program to print all the keys, values, items in a dictionary"
   ]
  },
  {
   "cell_type": "code",
   "execution_count": 59,
   "metadata": {},
   "outputs": [
    {
     "data": {
      "text/plain": [
       "dict"
      ]
     },
     "execution_count": 59,
     "metadata": {},
     "output_type": "execute_result"
    }
   ],
   "source": [
    "dict1 = {'Honda City' : 'Black',\n",
    "        'Maruti' : 'White',\n",
    "        'Waron-R' : 'Blue',\n",
    "        'Thar' : 'Black'     \n",
    "    }\n",
    "\n",
    "type(dict1)"
   ]
  },
  {
   "cell_type": "code",
   "execution_count": 62,
   "metadata": {},
   "outputs": [
    {
     "data": {
      "text/plain": [
       "dict_keys(['Honda City', 'Maruti', 'Waron-R', 'Thar'])"
      ]
     },
     "execution_count": 62,
     "metadata": {},
     "output_type": "execute_result"
    }
   ],
   "source": [
    "dict1.keys()"
   ]
  },
  {
   "cell_type": "code",
   "execution_count": 64,
   "metadata": {},
   "outputs": [
    {
     "data": {
      "text/plain": [
       "dict_values(['Black', 'White', 'Blue', 'Black'])"
      ]
     },
     "execution_count": 64,
     "metadata": {},
     "output_type": "execute_result"
    }
   ],
   "source": [
    "dict1.values()"
   ]
  },
  {
   "cell_type": "code",
   "execution_count": 66,
   "metadata": {},
   "outputs": [
    {
     "data": {
      "text/plain": [
       "dict_items([('Honda City', 'Black'), ('Maruti', 'White'), ('Waron-R', 'Blue'), ('Thar', 'Black')])"
      ]
     },
     "execution_count": 66,
     "metadata": {},
     "output_type": "execute_result"
    }
   ],
   "source": [
    "dict1.items()"
   ]
  },
  {
   "cell_type": "code",
   "execution_count": 72,
   "metadata": {},
   "outputs": [
    {
     "name": "stdout",
     "output_type": "stream",
     "text": [
      "Keys :  Honda City  And Items :  Black\n",
      "Keys :  Maruti  And Items :  White\n",
      "Keys :  Waron-R  And Items :  Blue\n",
      "Keys :  Thar  And Items :  Black\n"
     ]
    }
   ],
   "source": [
    "for i,j in dict1.items():\n",
    "    print('Keys : ' ,i , ' And Items : ' , j)"
   ]
  },
  {
   "cell_type": "markdown",
   "metadata": {},
   "source": [
    "## 7. Program to find those numbers which are divisible by 4 and multiple of 7, between 1000 and 1600 (both included)"
   ]
  },
  {
   "cell_type": "code",
   "execution_count": 76,
   "metadata": {},
   "outputs": [
    {
     "name": "stdout",
     "output_type": "stream",
     "text": [
      "1008\n",
      "1036\n",
      "1064\n",
      "1092\n",
      "1120\n",
      "1148\n",
      "1176\n",
      "1204\n",
      "1232\n",
      "1260\n",
      "1288\n",
      "1316\n",
      "1344\n",
      "1372\n",
      "1400\n",
      "1428\n",
      "1456\n",
      "1484\n",
      "1512\n",
      "1540\n",
      "1568\n",
      "1596\n"
     ]
    }
   ],
   "source": [
    "for i in range(1000,1600+1):\n",
    "    if i%4 == 0 and i%7==0:\n",
    "        print(i)"
   ]
  },
  {
   "cell_type": "markdown",
   "metadata": {},
   "source": [
    "## 8. Prints all the numbers from 0 to 50 except multiples of 13."
   ]
  },
  {
   "cell_type": "code",
   "execution_count": 78,
   "metadata": {},
   "outputs": [
    {
     "name": "stdout",
     "output_type": "stream",
     "text": [
      "13\n",
      "26\n",
      "39\n"
     ]
    }
   ],
   "source": [
    "for i in range(1,50):\n",
    "    if i%13==0:\n",
    "        print(i)"
   ]
  },
  {
   "cell_type": "markdown",
   "metadata": {},
   "source": [
    "## 9. Reverse a string"
   ]
  },
  {
   "cell_type": "code",
   "execution_count": 91,
   "metadata": {},
   "outputs": [
    {
     "name": "stdout",
     "output_type": "stream",
     "text": [
      "['r', 'a', 'm', 'u', 'K', ' ', 'l', 'i', 'n', 'u', 'S']\n"
     ]
    }
   ],
   "source": [
    "str = 'Sunil Kumar'\n",
    "new_str = []\n",
    "#for i in range(len(str),0):\n",
    "for i in reversed(str):\n",
    "    new_str.append(i)\n",
    "print(new_str)"
   ]
  },
  {
   "cell_type": "code",
   "execution_count": 94,
   "metadata": {},
   "outputs": [
    {
     "name": "stdout",
     "output_type": "stream",
     "text": [
      "['r', 'a', 'm', 'u', 'K', ' ', 'l', 'i', 'n', 'u', 'S']\n"
     ]
    }
   ],
   "source": [
    "str = 'Sunil Kumar'\n",
    "new_str = []\n",
    "for i in str[::-1]:\n",
    "    new_str.append(i)\n",
    "print(new_str)"
   ]
  },
  {
   "cell_type": "code",
   "execution_count": 96,
   "metadata": {},
   "outputs": [
    {
     "name": "stdout",
     "output_type": "stream",
     "text": [
      "ramuK linuS\n"
     ]
    }
   ],
   "source": [
    "str = 'Sunil Kumar'\n",
    "print(str[::-1])"
   ]
  },
  {
   "cell_type": "markdown",
   "metadata": {},
   "source": [
    "## 10. Print \"Hello!, \" plus each name in the list. i.e.: \"Hello!, Python\". use multiple names in a list."
   ]
  },
  {
   "cell_type": "code",
   "execution_count": 97,
   "metadata": {},
   "outputs": [
    {
     "name": "stdout",
     "output_type": "stream",
     "text": [
      "Hello!  Ved\n",
      "Hello!  Sunil\n",
      "Hello!  Chittaranjan\n",
      "Hello!  Sandeep\n"
     ]
    }
   ],
   "source": [
    "list1 = ['Ved', 'Sunil' , 'Chittaranjan', 'Sandeep']\n",
    "for i in list1:\n",
    "    print('Hello! ' , i)"
   ]
  },
  {
   "cell_type": "markdown",
   "metadata": {},
   "source": [
    "## 11. We have two lists, pulling common values from both lists and adding the same in thirst list."
   ]
  },
  {
   "cell_type": "code",
   "execution_count": 99,
   "metadata": {},
   "outputs": [
    {
     "name": "stdout",
     "output_type": "stream",
     "text": [
      "['Black', 'White']\n"
     ]
    }
   ],
   "source": [
    "list1 = ['Black' , 'White' , 'Yellow' , 'Green' ]\n",
    "list2 = ['Orange' , 'Purple' , 'Black' , 'White']\n",
    "list3 = []\n",
    "for i in list1:\n",
    "    for j in list2:\n",
    "        if i == j:\n",
    "            list3.append(i)\n",
    "print(list3)"
   ]
  },
  {
   "cell_type": "markdown",
   "metadata": {},
   "source": [
    "## 12. We have two lists, pulling un-common values from both lists and adding the same in third list. "
   ]
  },
  {
   "cell_type": "code",
   "execution_count": 121,
   "metadata": {},
   "outputs": [
    {
     "name": "stdout",
     "output_type": "stream",
     "text": [
      "['Yellow', 'Green', 'Orange', 'Purple']\n"
     ]
    }
   ],
   "source": [
    "list1 = ['Black' , 'White' , 'Yellow' , 'Green']\n",
    "list2 = ['Orange' , 'Purple' , 'Black' , 'White']\n",
    "list3 = []\n",
    "for i in list1:\n",
    "    if i not in list2:\n",
    "        list3.append(i)\n",
    "\n",
    "for j in list2:\n",
    "    if j not in list1:\n",
    "        list3.append(j)\n",
    "print(list3)"
   ]
  },
  {
   "cell_type": "markdown",
   "metadata": {},
   "source": [
    "## 13. We have two lists, pulling un-common values from both lists and adding the same in thirst list. Avoid Duplicates as well."
   ]
  },
  {
   "cell_type": "code",
   "execution_count": 122,
   "metadata": {},
   "outputs": [
    {
     "name": "stdout",
     "output_type": "stream",
     "text": [
      "['Yellow', 'Green', 'Orange', 'Purple']\n"
     ]
    }
   ],
   "source": [
    "list1 = ['Black' , 'White' , 'Yellow' , 'Green', 'White' , 'White' ]\n",
    "list2 = ['Orange' , 'Purple' , 'Black' , 'White']\n",
    "list3 = []\n",
    "for i in list1:\n",
    "    if i not in list2:\n",
    "        list3.append(i)\n",
    "\n",
    "for j in list2:\n",
    "    if j not in list1:\n",
    "        list3.append(j)\n",
    "print(list3)"
   ]
  },
  {
   "cell_type": "code",
   "execution_count": null,
   "metadata": {},
   "outputs": [],
   "source": []
  },
  {
   "cell_type": "markdown",
   "metadata": {},
   "source": [
    "While Loop\n",
    "\n",
    "1.Take 10 integers from keyboard using loop and print their average value on the screen.\n",
    "2. print multiple star patterns using while loop.\n",
    "3. Print multiplication table of 13, 21 and 29 using loop.\n",
    "4. to print the square of all numbers from 0 to 10\n",
    "5. to find the sum of all odd and even numbers from 0 to 10\n",
    "6. adds all the numbers up to 100. Use Continue and break statement\n",
    "7. take a list with multiple duplicate items and using while loop add unique elements in another new list\n",
    "8. to stops appending items to the new list as soon as it encounters an empty string.\n",
    "9. Program to print first 5 integer and their cubes\n",
    "10. to convert decimal to binary\n",
    "Note : - Write 4-5 extra programs based on your research. Use Continue and Break statement\n",
    "\n",
    "\n",
    "For loop\n",
    "\n",
    "1. Python program to find out the average of a set of integers\n",
    "2. to display all the multiples of 3 within the range 10 to 50\n",
    "3. program to generate the prime numbers from 1 to N\n",
    "4. program to find the odd and even numbers in an array\n",
    "5. program to find the largest number in a list without using built-in functions\n",
    "6. program to print all the keys, values, items in a dictionary\n",
    "7. program to find those numbers which are divisible by 4 and multiple of 7, between 1000 and 1600 (both included)\n",
    "8. Prints all the numbers from 0 to 50 except multiples of 13.\n",
    "9. reverse a string\n",
    "10. print \"Hello!, \" plus each name in the list. i.e.: \"Hello!, Python\". use multiple names in a list.\n",
    "11. We have two lists, pulling common values from both lists and adding the same in thirst list.\n",
    "12. We have two lists, pulling un-common values from both lists and adding the same in thirst list. \n",
    "13. We have two lists, pulling un-common values from both lists and adding the same in thirst list. Avoid Duplicates as well.\n",
    "Note : - Write 4-5 extra programs based on your research. Use Continue and Break statement\n",
    "\n"
   ]
  },
  {
   "cell_type": "code",
   "execution_count": null,
   "metadata": {},
   "outputs": [],
   "source": []
  }
 ],
 "metadata": {
  "kernelspec": {
   "display_name": "Python 3",
   "language": "python",
   "name": "python3"
  },
  "language_info": {
   "codemirror_mode": {
    "name": "ipython",
    "version": 3
   },
   "file_extension": ".py",
   "mimetype": "text/x-python",
   "name": "python",
   "nbconvert_exporter": "python",
   "pygments_lexer": "ipython3",
   "version": "3.7.0"
  }
 },
 "nbformat": 4,
 "nbformat_minor": 2
}
