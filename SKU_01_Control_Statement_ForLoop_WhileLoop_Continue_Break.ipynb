{
 "cells": [
  {
   "cell_type": "markdown",
   "metadata": {},
   "source": [
    "# Looping Statement"
   ]
  },
  {
   "cell_type": "markdown",
   "metadata": {},
   "source": [
    "Looping statement is a control statement in python which keep on executing a single statement or block of statement 'N' times till the condition is true.\n",
    "Once the condition becomes False the execution is terminated.\n",
    "\n",
    "Every Looping statement has 3 parts\n",
    "\n",
    "1. Initialization \n",
    "2. Condition\n",
    "3. Increment/Decrement"
   ]
  },
  {
   "cell_type": "markdown",
   "metadata": {},
   "source": [
    "Python provides two loops statements:-\n",
    "    1. For Loop\n",
    "    2. While"
   ]
  },
  {
   "cell_type": "markdown",
   "metadata": {},
   "source": [
    "##### For Loop"
   ]
  },
  {
   "cell_type": "code",
   "execution_count": 25,
   "metadata": {},
   "outputs": [
    {
     "name": "stdout",
     "output_type": "stream",
     "text": [
      "Iteration is on \"  P\n",
      "Iteration is on \"  y\n",
      "Iteration is on \"  t\n",
      "Iteration is on \"  h\n",
      "Iteration is on \"  o\n",
      "Iteration is on \"  n\n"
     ]
    }
   ],
   "source": [
    "for char in 'Python':\n",
    "    print('Iteration is on \" ' , char)    "
   ]
  },
  {
   "cell_type": "markdown",
   "metadata": {},
   "source": [
    "#### Range"
   ]
  },
  {
   "cell_type": "markdown",
   "metadata": {},
   "source": [
    "The range() function returns a sequence of numbers, starting from 0 by default, and increments by 1 (by default), and ends at a specified number."
   ]
  },
  {
   "cell_type": "code",
   "execution_count": 7,
   "metadata": {},
   "outputs": [
    {
     "name": "stdout",
     "output_type": "stream",
     "text": [
      "Number of Iteration :  0\n",
      "Number of Iteration :  1\n",
      "Number of Iteration :  2\n",
      "Number of Iteration :  3\n",
      "Number of Iteration :  4\n"
     ]
    }
   ],
   "source": [
    "for i  in range(5):\n",
    "    print('Number of Iteration : ' , i)"
   ]
  },
  {
   "cell_type": "code",
   "execution_count": 8,
   "metadata": {},
   "outputs": [
    {
     "name": "stdout",
     "output_type": "stream",
     "text": [
      "Number of Iteration :  4\n",
      "Number of Iteration :  5\n",
      "Number of Iteration :  6\n",
      "Number of Iteration :  7\n"
     ]
    }
   ],
   "source": [
    "for i in range(4,8):\n",
    "    print('Number of Iteration : ', i)"
   ]
  },
  {
   "cell_type": "code",
   "execution_count": 24,
   "metadata": {},
   "outputs": [
    {
     "name": "stdout",
     "output_type": "stream",
     "text": [
      "Number of Iteration : 1\n",
      "Number of Iteration : 3\n",
      "Number of Iteration : 5\n",
      "Number of Iteration : 7\n"
     ]
    }
   ],
   "source": [
    "# Loop with increment by 2\n",
    "for i in range(1,8,2):\n",
    "    print ('Number of Iteration :', i)"
   ]
  },
  {
   "cell_type": "markdown",
   "metadata": {},
   "source": [
    "######  Loop over of Lists in Lists"
   ]
  },
  {
   "cell_type": "code",
   "execution_count": 23,
   "metadata": {},
   "outputs": [
    {
     "name": "stdout",
     "output_type": "stream",
     "text": [
      "Type of List_Items :  <class 'list'>\n"
     ]
    }
   ],
   "source": [
    "List_Items = [[1,2,3,] , [4,5,6] , [7,8,9]]\n",
    "print('Type of List_Items : ',  type(List_Items))"
   ]
  },
  {
   "cell_type": "code",
   "execution_count": 22,
   "metadata": {},
   "outputs": [
    {
     "name": "stdout",
     "output_type": "stream",
     "text": [
      "1\n",
      "2\n",
      "3\n",
      "\n",
      "\n",
      "4\n",
      "5\n",
      "6\n",
      "\n",
      "\n",
      "7\n",
      "8\n",
      "9\n",
      "\n",
      "\n"
     ]
    }
   ],
   "source": [
    "for list1 in List_Items:\n",
    "    for l in list1:\n",
    "        print(l)\n",
    "    print('\\n')"
   ]
  },
  {
   "cell_type": "markdown",
   "metadata": {},
   "source": [
    "## While Loop"
   ]
  },
  {
   "cell_type": "markdown",
   "metadata": {},
   "source": [
    "With while loop we can execute a statement as long as condition is true."
   ]
  },
  {
   "cell_type": "code",
   "execution_count": 5,
   "metadata": {},
   "outputs": [
    {
     "name": "stdout",
     "output_type": "stream",
     "text": [
      "1\n",
      "2\n",
      "3\n",
      "4\n",
      "5\n"
     ]
    }
   ],
   "source": [
    "i = 1\n",
    "while i < 6:    \n",
    "    print(i)    \n",
    "    i = i + 1"
   ]
  },
  {
   "cell_type": "code",
   "execution_count": 2,
   "metadata": {},
   "outputs": [
    {
     "name": "stdout",
     "output_type": "stream",
     "text": [
      "10\n",
      "9\n",
      "8\n",
      "7\n"
     ]
    }
   ],
   "source": [
    "i = 10\n",
    "while i > 6:\n",
    "    print (i)\n",
    "    i -= 1\n",
    "    "
   ]
  },
  {
   "cell_type": "markdown",
   "metadata": {},
   "source": [
    "Looping statement is a control statement in python which keep on executing a single statement or block of statement 'N' times till the condition is true.\n",
    "Once the condition becomes False the execution is terminated.\n",
    "\n",
    "Every Looping statement has 3 parts\n",
    "\n",
    "1. Initialization \n",
    "2. Condition\n",
    "3. Increment/Decrement"
   ]
  },
  {
   "cell_type": "markdown",
   "metadata": {},
   "source": [
    "If any of the statement among three statement is missing then loop will not executes"
   ]
  },
  {
   "cell_type": "markdown",
   "metadata": {},
   "source": [
    "## Control Statement in Python"
   ]
  },
  {
   "cell_type": "markdown",
   "metadata": {},
   "source": [
    "Control statement used in python to control the execution of the code based on some value and logics.\n",
    "\n",
    "**Continue Statement**\n",
    "\n",
    "**Break Statement**\n",
    "\n",
    "**Pass Statement**"
   ]
  },
  {
   "cell_type": "markdown",
   "metadata": {},
   "source": [
    "### Continue Statement "
   ]
  },
  {
   "cell_type": "markdown",
   "metadata": {},
   "source": [
    "When Continue Statement encountered in the program, it will skip the statement which are after the Continue Statement inside the loop."
   ]
  },
  {
   "cell_type": "code",
   "execution_count": 7,
   "metadata": {},
   "outputs": [
    {
     "name": "stdout",
     "output_type": "stream",
     "text": [
      "Iteration at :  P\n",
      "Iteration at :  t\n",
      "Iteration at :  h\n",
      "Iteration at :  o\n",
      "Iteration at :  n\n"
     ]
    }
   ],
   "source": [
    "for char in \"Python\":\n",
    "    if char == 'y':        \n",
    "        continue\n",
    "    print('Iteration at : ' , char)\n",
    "# For loop will pass the Iteration coming after 'CONTINUE' statement , without executing it -"
   ]
  },
  {
   "cell_type": "markdown",
   "metadata": {},
   "source": [
    "### Break Statement"
   ]
  },
  {
   "cell_type": "code",
   "execution_count": 9,
   "metadata": {},
   "outputs": [
    {
     "name": "stdout",
     "output_type": "stream",
     "text": [
      "Iteration at :  P\n"
     ]
    }
   ],
   "source": [
    "for char in 'Python':\n",
    "    if char =='y':\n",
    "        break\n",
    "    print ('Iteration at : ', char)\n",
    "# It will stop and terminate the loop when condition tru and 'BREAK' statement runs"
   ]
  },
  {
   "cell_type": "markdown",
   "metadata": {},
   "source": [
    "### Pass Statement"
   ]
  },
  {
   "cell_type": "markdown",
   "metadata": {},
   "source": [
    "Pass statement is NULL operation, which is used when the statement required syntatically."
   ]
  },
  {
   "cell_type": "code",
   "execution_count": 12,
   "metadata": {},
   "outputs": [
    {
     "name": "stdout",
     "output_type": "stream",
     "text": [
      "Iteration at :  P\n",
      "Iteration at :  y\n",
      "Iteration at :  t\n",
      "Iteration at :  h\n",
      "Iteration at :  o\n",
      "Iteration at :  n\n"
     ]
    }
   ],
   "source": [
    "for char in 'Python':\n",
    "    if char =='y':\n",
    "        pass\n",
    "    print ('Iteration at : ', char)\n",
    "# It will run as normal even after PASS operation."
   ]
  },
  {
   "cell_type": "code",
   "execution_count": null,
   "metadata": {},
   "outputs": [],
   "source": []
  }
 ],
 "metadata": {
  "kernelspec": {
   "display_name": "Python 3",
   "language": "python",
   "name": "python3"
  },
  "language_info": {
   "codemirror_mode": {
    "name": "ipython",
    "version": 3
   },
   "file_extension": ".py",
   "mimetype": "text/x-python",
   "name": "python",
   "nbconvert_exporter": "python",
   "pygments_lexer": "ipython3",
   "version": "3.7.0"
  }
 },
 "nbformat": 4,
 "nbformat_minor": 2
}
